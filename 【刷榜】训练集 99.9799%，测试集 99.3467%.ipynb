{
 "cells": [
  {
   "cell_type": "markdown",
   "metadata": {},
   "source": [
    "#【刷榜记录】\n",
    "\n",
    "训练集: 99.9799%\n",
    "\n",
    "测试集: 99.3467%"
   ]
  },
  {
   "cell_type": "code",
   "execution_count": 1,
   "metadata": {
    "cell_type": "code",
    "id": "C3F20307D49846FD89AB68B2170B68D8",
    "scrolled": false
   },
   "outputs": [],
   "source": [
    "import matplotlib.pyplot as plt\n",
    "import numpy as np\n",
    "import torch \n",
    "from torch import nn as nn\n",
    "from torch import optim\n",
    "from torch.utils.data import DataLoader, Dataset #, random_split\n",
    "from torchvision import datasets, transforms\n",
    "from torch.utils.data.sampler import SubsetRandomSampler"
   ]
  },
  {
   "cell_type": "markdown",
   "metadata": {
    "id": "FBB4892349844084A458F332E5483878",
    "mdEditEnable": false
   },
   "source": [
    "# 导入数据"
   ]
  },
  {
   "cell_type": "code",
   "execution_count": 2,
   "metadata": {
    "id": "2DAB850348BC4259844E4DE298DF4EC9",
    "scrolled": false
   },
   "outputs": [],
   "source": [
    "dataset_root = r'TibetanMNIST.npz'\n",
    "\n",
    "raw_data = np.load(dataset_root)\n",
    "image_data, label_data = raw_data['image'][..., None], raw_data['label'].astype('int64')"
   ]
  },
  {
   "cell_type": "markdown",
   "metadata": {
    "id": "A915D9FE90A143189D6D2A52BC02EB26",
    "mdEditEnable": false
   },
   "source": [
    "# 定义TibetanMnist类"
   ]
  },
  {
   "cell_type": "code",
   "execution_count": 3,
   "metadata": {
    "code_folding": [],
    "id": "3293AA132EED4035BB93540D0BBD7B14",
    "scrolled": false
   },
   "outputs": [],
   "source": [
    "class TibetanMnist(Dataset):\n",
    "\n",
    "    def __init__(self, img=image_data, target=label_data, transform=None):\n",
    "        self.img = image_data\n",
    "        self.target = label_data\n",
    "        self.transform = transform\n",
    "        \n",
    "    def __len__(self):\n",
    "        return len(self.target)\n",
    "\n",
    "    def __getitem__(self, idx):\n",
    "        img = self.img[idx, ...]\n",
    "        img = img/255\n",
    "        label = self.target[idx]\n",
    "\n",
    "        if self.transform:\n",
    "            img = self.transform(img)\n",
    "\n",
    "        return img, label"
   ]
  },
  {
   "cell_type": "markdown",
   "metadata": {
    "id": "D7054B03C5A04DD08299720BD9596C83",
    "mdEditEnable": false
   },
   "source": [
    "# 训练网络函数"
   ]
  },
  {
   "cell_type": "code",
   "execution_count": 4,
   "metadata": {
    "code_folding": [
     0
    ],
    "id": "8B4719895A20490F9E9538F03254EF7B",
    "scrolled": false
   },
   "outputs": [],
   "source": [
    "def train_model(model, criterion, optimizer, epoch_num, train_dataloader, test_dataloader):\n",
    "\n",
    "    train_loss_all = []\n",
    "    train_acc_all = []\n",
    "    eval_loss_all = []\n",
    "    eval_acc_all = []\n",
    "\n",
    "    for epo in range(epoch_num):\n",
    "\n",
    "        train_loss = 0\n",
    "        train_acc = 0\n",
    "        model.train()\n",
    "\n",
    "        for idx, (img, label) in enumerate(train_dataloader):\n",
    "\n",
    "            img = img.to(device)\n",
    "            label = label.to(device)\n",
    "            optimizer.zero_grad()\n",
    "            output = model(img)\n",
    "\n",
    "            loss = criterion(output, label)\n",
    "            loss.backward()\n",
    "            optimizer.step()\n",
    "            train_loss += loss.item()\n",
    "            _, pred = output.max(dim = 1)\n",
    "            num_correct = (pred == label).sum().item()\n",
    "            acc = num_correct / img.shape[0]\n",
    "            train_acc += acc\n",
    "            # print('train epoch: {}, idx: {}, idx_acc: {}'.format(epo, idx, acc))\n",
    "\n",
    "        # 在测试集上检验效果\n",
    "        eval_loss = 0\n",
    "        eval_acc = 0\n",
    "        model.eval() \n",
    "        with torch.no_grad():\n",
    "            for idx, (img, label) in enumerate(test_dataloader):\n",
    "                \n",
    "                img = img.to(device)\n",
    "                label = label.to(device)\n",
    "                output = model(img)\n",
    "                loss = criterion(output, label)\n",
    "                eval_loss += loss.item()\n",
    "                _, pred = output.max(dim = 1)\n",
    "                num_correct = (pred == label).sum().item()\n",
    "                acc = num_correct / img.shape[0]\n",
    "                eval_acc += acc            \n",
    "                # print('test epoch: {}, idx: {}, idx_acc: {}'.format(epo, idx, acc))\n",
    "\n",
    "        train_loss /= len(train_dataloader)\n",
    "        train_acc /= len(train_dataloader)\n",
    "        eval_loss /= len(test_dataloader)\n",
    "        eval_acc /= len(test_dataloader)\n",
    "\n",
    "        train_loss_all.append(train_loss)\n",
    "        train_acc_all.append(train_acc)\n",
    "        eval_loss_all.append(eval_loss)\n",
    "        eval_acc_all.append(eval_acc)\n",
    "\n",
    "        print('epoch: {}, Train Loss: {:.6f}, Train Acc: {:.6f}, Eval Loss: {:.6f}, Eval Acc: {:.6f}'.format(\n",
    "            epo, train_loss, train_acc, eval_loss, eval_acc))\n",
    "\n",
    "    return train_loss_all, train_acc_all, eval_loss_all, eval_acc_all    "
   ]
  },
  {
   "cell_type": "markdown",
   "metadata": {},
   "source": [
    "# 绘图函数"
   ]
  },
  {
   "cell_type": "code",
   "execution_count": 5,
   "metadata": {
    "code_folding": [
     0
    ]
   },
   "outputs": [],
   "source": [
    "def plot_result(train, test, title, ylabel, xlabel='Epoch'):\n",
    "    plt.plot(train)\n",
    "    plt.plot(test)\n",
    "    plt.legend(['Train', 'Test'], loc='upper left')\n",
    "    plt.title(title)\n",
    "    plt.ylabel('ylabel')\n",
    "    plt.xlabel(xlabel)"
   ]
  },
  {
   "cell_type": "markdown",
   "metadata": {
    "id": "BA13059CD7624AD0826B7F0A24B06503",
    "mdEditEnable": false
   },
   "source": [
    "# 载入数据集"
   ]
  },
  {
   "cell_type": "code",
   "execution_count": 6,
   "metadata": {
    "code_folding": [],
    "id": "A782D314878F49C5814FB1A22A42BC86"
   },
   "outputs": [],
   "source": [
    "tibetan_mnist_dataset = TibetanMnist(\n",
    "    img=image_data, target=label_data, transform=transforms.ToTensor())\n",
    "\n",
    "dataset_size = len(tibetan_mnist_dataset)\n",
    "indices = list(range(dataset_size))\n",
    "split = int(np.floor(0.2 * dataset_size))\n",
    "\n",
    "random_seed = 2018 #可以改成随机种子\n",
    "np.random.seed(random_seed)\n",
    "np.random.shuffle(indices)\n",
    "train_indices, test_indices = indices[split:], indices[:split]\n",
    "\n",
    "\n",
    "train_sampler = SubsetRandomSampler(train_indices)\n",
    "test_sampler = SubsetRandomSampler(test_indices)\n",
    "\n",
    "train_dataloader = DataLoader(tibetan_mnist_dataset, batch_size=128, sampler=train_sampler)\n",
    "test_dataloader = DataLoader(tibetan_mnist_dataset, batch_size=128, sampler=test_sampler)"
   ]
  },
  {
   "cell_type": "markdown",
   "metadata": {},
   "source": [
    "# 网络结构"
   ]
  },
  {
   "cell_type": "code",
   "execution_count": 7,
   "metadata": {},
   "outputs": [],
   "source": [
    "class FCN(nn.Module):\n",
    "    \n",
    "    def __init__(self):\n",
    "        super().__init__()\n",
    "        self.conv1 = nn.Sequential(         \n",
    "            nn.Conv2d(\n",
    "                in_channels=1,              \n",
    "                out_channels=128,            \n",
    "                kernel_size=3           \n",
    "            ),  \n",
    "            nn.BatchNorm2d(128),\n",
    "            nn.ReLU(),\n",
    "            nn.Conv2d(\n",
    "                in_channels=128,\n",
    "                out_channels=128, \n",
    "                kernel_size=3\n",
    "            ),     \n",
    "            nn.BatchNorm2d(128),\n",
    "            nn.ReLU(),\n",
    "            nn.MaxPool2d(kernel_size=2),\n",
    "        )\n",
    "        self.conv2 = nn.Sequential(       \n",
    "            nn.Conv2d(\n",
    "                in_channels=128,\n",
    "                out_channels=128, \n",
    "                kernel_size=3\n",
    "            ),     \n",
    "            nn.BatchNorm2d(128),\n",
    "            nn.ReLU(),\n",
    "            nn.Conv2d(\n",
    "                in_channels=128,\n",
    "                out_channels=128, \n",
    "                kernel_size=3\n",
    "            ),     \n",
    "            nn.BatchNorm2d(128),\n",
    "            nn.ReLU(),\n",
    "            nn.Conv2d(\n",
    "                in_channels=128,\n",
    "                out_channels=64, \n",
    "                kernel_size=3\n",
    "            ),\n",
    "            nn.BatchNorm2d(64),\n",
    "            nn.ReLU(),\n",
    "            nn.MaxPool2d(kernel_size=2),\n",
    "        )\n",
    "        \n",
    "        self.classifer = nn.Sequential(       \n",
    "            nn.Conv2d(\n",
    "                in_channels=64,\n",
    "                out_channels=10, \n",
    "                kernel_size=3\n",
    "            ),  \n",
    "        )\n",
    "\n",
    "    def forward(self, x):\n",
    "        x = self.conv1(x)\n",
    "        x = self.conv2(x)\n",
    "        x = self.classifer(x)\n",
    "        return x.squeeze()      "
   ]
  },
  {
   "cell_type": "markdown",
   "metadata": {
    "id": "7E90616504D9492296DA68D4B96C30F2",
    "mdEditEnable": false
   },
   "source": [
    "# 训练参数"
   ]
  },
  {
   "cell_type": "code",
   "execution_count": 8,
   "metadata": {},
   "outputs": [],
   "source": [
    "device = torch.device('cuda' if torch.cuda.is_available() else 'cpu')\n",
    "fcn = FCN().to(device)\n",
    "criterion_fcn = nn.CrossEntropyLoss().to(device)\n",
    "optimizer_fcn = optim.Adam(fcn.parameters(), lr=1e-3)"
   ]
  },
  {
   "cell_type": "markdown",
   "metadata": {
    "id": "D49B7A17BAFF4C2F8E360230C32D1473",
    "mdEditEnable": false
   },
   "source": [
    "# 开始训练"
   ]
  },
  {
   "cell_type": "code",
   "execution_count": 9,
   "metadata": {
    "id": "B2083D47127543E482F66247E3650E66",
    "scrolled": false
   },
   "outputs": [
    {
     "name": "stdout",
     "output_type": "stream",
     "text": [
      "epoch: 0, Train Loss: 0.391538, Train Acc: 0.912388, Eval Loss: 0.103998, Eval Acc: 0.980569\n",
      "epoch: 1, Train Loss: 0.079654, Train Acc: 0.980329, Eval Loss: 0.082858, Eval Acc: 0.976954\n",
      "epoch: 2, Train Loss: 0.057129, Train Acc: 0.984724, Eval Loss: 0.046735, Eval Acc: 0.985212\n",
      "epoch: 3, Train Loss: 0.033428, Train Acc: 0.991908, Eval Loss: 0.046371, Eval Acc: 0.986429\n",
      "epoch: 4, Train Loss: 0.027530, Train Acc: 0.992606, Eval Loss: 0.078786, Eval Acc: 0.972300\n",
      "epoch: 5, Train Loss: 0.022378, Train Acc: 0.994559, Eval Loss: 0.036293, Eval Acc: 0.991071\n",
      "epoch: 6, Train Loss: 0.010537, Train Acc: 0.997768, Eval Loss: 0.033158, Eval Acc: 0.990703\n",
      "epoch: 7, Train Loss: 0.006736, Train Acc: 0.998814, Eval Loss: 0.043634, Eval Acc: 0.985491\n",
      "epoch: 8, Train Loss: 0.008384, Train Acc: 0.997838, Eval Loss: 0.033254, Eval Acc: 0.989587\n",
      "epoch: 9, Train Loss: 0.004466, Train Acc: 0.999442, Eval Loss: 0.028823, Eval Acc: 0.992656\n",
      "epoch: 10, Train Loss: 0.006204, Train Acc: 0.998675, Eval Loss: 0.029697, Eval Acc: 0.990703\n",
      "epoch: 11, Train Loss: 0.003857, Train Acc: 0.999302, Eval Loss: 0.046303, Eval Acc: 0.987076\n",
      "epoch: 12, Train Loss: 0.003705, Train Acc: 0.999372, Eval Loss: 0.031823, Eval Acc: 0.990703\n",
      "epoch: 13, Train Loss: 0.009380, Train Acc: 0.996702, Eval Loss: 0.175171, Eval Acc: 0.955547\n",
      "epoch: 14, Train Loss: 0.055198, Train Acc: 0.984235, Eval Loss: 0.046235, Eval Acc: 0.985402\n",
      "epoch: 15, Train Loss: 0.013638, Train Acc: 0.996443, Eval Loss: 0.032461, Eval Acc: 0.990703\n",
      "epoch: 16, Train Loss: 0.005304, Train Acc: 0.998396, Eval Loss: 0.032066, Eval Acc: 0.991261\n",
      "epoch: 17, Train Loss: 0.002610, Train Acc: 0.999651, Eval Loss: 0.034339, Eval Acc: 0.990982\n",
      "epoch: 18, Train Loss: 0.002204, Train Acc: 0.999721, Eval Loss: 0.027116, Eval Acc: 0.992188\n",
      "epoch: 19, Train Loss: 0.001162, Train Acc: 0.999791, Eval Loss: 0.028277, Eval Acc: 0.991629\n",
      "epoch: 20, Train Loss: 0.001515, Train Acc: 0.999651, Eval Loss: 0.027439, Eval Acc: 0.992098\n",
      "epoch: 21, Train Loss: 0.001053, Train Acc: 0.999791, Eval Loss: 0.028334, Eval Acc: 0.991908\n",
      "epoch: 22, Train Loss: 0.001641, Train Acc: 0.999651, Eval Loss: 0.027807, Eval Acc: 0.992467\n",
      "epoch: 23, Train Loss: 0.001504, Train Acc: 0.999581, Eval Loss: 0.027409, Eval Acc: 0.992746\n",
      "epoch: 24, Train Loss: 0.001138, Train Acc: 0.999651, Eval Loss: 0.027977, Eval Acc: 0.992098\n",
      "epoch: 25, Train Loss: 0.000849, Train Acc: 0.999791, Eval Loss: 0.028966, Eval Acc: 0.992288\n",
      "epoch: 26, Train Loss: 0.001166, Train Acc: 0.999721, Eval Loss: 0.028421, Eval Acc: 0.993304\n",
      "epoch: 27, Train Loss: 0.006085, Train Acc: 0.998047, Eval Loss: 0.051682, Eval Acc: 0.985592\n",
      "epoch: 28, Train Loss: 0.017781, Train Acc: 0.994141, Eval Loss: 0.035858, Eval Acc: 0.989676\n",
      "epoch: 29, Train Loss: 0.005596, Train Acc: 0.998744, Eval Loss: 0.037188, Eval Acc: 0.988839\n",
      "epoch: 30, Train Loss: 0.002851, Train Acc: 0.999302, Eval Loss: 0.029416, Eval Acc: 0.991629\n",
      "epoch: 31, Train Loss: 0.001728, Train Acc: 0.999721, Eval Loss: 0.027771, Eval Acc: 0.992377\n",
      "epoch: 32, Train Loss: 0.001201, Train Acc: 0.999791, Eval Loss: 0.027341, Eval Acc: 0.993583\n",
      "epoch: 33, Train Loss: 0.001228, Train Acc: 0.999721, Eval Loss: 0.026709, Eval Acc: 0.992467\n",
      "epoch: 34, Train Loss: 0.001185, Train Acc: 0.999721, Eval Loss: 0.027449, Eval Acc: 0.992467\n",
      "epoch: 35, Train Loss: 0.003293, Train Acc: 0.999163, Eval Loss: 0.032346, Eval Acc: 0.991629\n",
      "epoch: 36, Train Loss: 0.005541, Train Acc: 0.998256, Eval Loss: 0.047708, Eval Acc: 0.984755\n",
      "epoch: 37, Train Loss: 0.006361, Train Acc: 0.997907, Eval Loss: 0.046648, Eval Acc: 0.985770\n",
      "epoch: 38, Train Loss: 0.008203, Train Acc: 0.997698, Eval Loss: 0.034409, Eval Acc: 0.990056\n",
      "epoch: 39, Train Loss: 0.005492, Train Acc: 0.998186, Eval Loss: 0.045544, Eval Acc: 0.989955\n",
      "epoch: 40, Train Loss: 0.005067, Train Acc: 0.998186, Eval Loss: 0.033621, Eval Acc: 0.990145\n",
      "epoch: 41, Train Loss: 0.003595, Train Acc: 0.999023, Eval Loss: 0.031622, Eval Acc: 0.991071\n",
      "epoch: 42, Train Loss: 0.001622, Train Acc: 0.999581, Eval Loss: 0.025676, Eval Acc: 0.993493\n",
      "epoch: 43, Train Loss: 0.001220, Train Acc: 0.999721, Eval Loss: 0.026621, Eval Acc: 0.992188\n",
      "epoch: 44, Train Loss: 0.000671, Train Acc: 0.999791, Eval Loss: 0.025883, Eval Acc: 0.992746\n",
      "epoch: 45, Train Loss: 0.000853, Train Acc: 0.999651, Eval Loss: 0.025971, Eval Acc: 0.993025\n",
      "epoch: 46, Train Loss: 0.000957, Train Acc: 0.999721, Eval Loss: 0.025380, Eval Acc: 0.993583\n",
      "epoch: 47, Train Loss: 0.001440, Train Acc: 0.999512, Eval Loss: 0.026709, Eval Acc: 0.993377\n",
      "epoch: 48, Train Loss: 0.000712, Train Acc: 0.999791, Eval Loss: 0.025455, Eval Acc: 0.993746\n",
      "epoch: 49, Train Loss: 0.000806, Train Acc: 0.999799, Eval Loss: 0.025884, Eval Acc: 0.993467\n"
     ]
    }
   ],
   "source": [
    "train_loss_all, train_acc_all, eval_loss_all, eval_acc_all = train_model(\n",
    "    model=fcn, \n",
    "    criterion=criterion_fcn,\n",
    "    optimizer=optimizer_fcn,\n",
    "    epoch_num=50,\n",
    "    train_dataloader=train_dataloader,\n",
    "    test_dataloader=test_dataloader\n",
    ")"
   ]
  },
  {
   "cell_type": "markdown",
   "metadata": {},
   "source": [
    "# 保存模型"
   ]
  },
  {
   "cell_type": "code",
   "execution_count": 10,
   "metadata": {
    "scrolled": true
   },
   "outputs": [
    {
     "name": "stderr",
     "output_type": "stream",
     "text": [
      "C:\\Users\\m\\Anaconda3\\lib\\site-packages\\torch\\serialization.py:241: UserWarning: Couldn't retrieve source code for container of type FCN. It won't be checked for correctness upon loading.\n",
      "  \"type \" + obj.__name__ + \". It won't be checked \"\n"
     ]
    }
   ],
   "source": [
    "torch.save(fcn, 'fcn.pkl')\n",
    "torch.save(fcn.state_dict(), 'fcn_params.pkl')"
   ]
  },
  {
   "cell_type": "markdown",
   "metadata": {},
   "source": [
    "# 绘图"
   ]
  },
  {
   "cell_type": "code",
   "execution_count": 11,
   "metadata": {
    "id": "39C66743987848BD803C215D81D4C7C9"
   },
   "outputs": [
    {
     "data": {
      "image/png": "[encoded data removed]",
      "text/plain": [
       "<Figure size 432x288 with 1 Axes>"
      ]
     },
     "metadata": {},
     "output_type": "display_data"
    }
   ],
   "source": [
    "plot_result(train_acc_all, eval_acc_all, 'Model accuracy', 'Accuracy')"
   ]
  },
  {
   "cell_type": "code",
   "execution_count": 12,
   "metadata": {
    "id": "27C87713A7644D0D86960433861DA919"
   },
   "outputs": [
    {
     "data": {
      "image/png": "[encoded data removed]",
      "text/plain": [
       "<Figure size 432x288 with 1 Axes>"
      ]
     },
     "metadata": {},
     "output_type": "display_data"
    }
   ],
   "source": [
    "plot_result(train_loss_all, eval_loss_all, 'Model loss', 'Loss')"
   ]
  },
  {
   "cell_type": "code",
   "execution_count": null,
   "metadata": {},
   "outputs": [],
   "source": []
  }
 ],
 "metadata": {
  "kernelspec": {
   "display_name": "Python 3",
   "language": "python",
   "name": "python3"
  },
  "language_info": {
   "codemirror_mode": {
    "name": "ipython",
    "version": 3
   },
   "file_extension": ".py",
   "mimetype": "text/x-python",
   "name": "python",
   "nbconvert_exporter": "python",
   "pygments_lexer": "ipython3",
   "version": "3.6.5"
  },
  "toc": {
   "base_numbering": 1,
   "nav_menu": {},
   "number_sections": true,
   "sideBar": true,
   "skip_h1_title": false,
   "title_cell": "Table of Contents",
   "title_sidebar": "Contents",
   "toc_cell": false,
   "toc_position": {
    "height": "508.148px",
    "left": "26px",
    "top": "44.9653px",
    "width": "284.433px"
   },
   "toc_section_display": true,
   "toc_window_display": true
  },
  "varInspector": {
   "cols": {
    "lenName": 16,
    "lenType": 16,
    "lenVar": 40
   },
   "kernels_config": {
    "python": {
     "delete_cmd_postfix": "",
     "delete_cmd_prefix": "del ",
     "library": "var_list.py",
     "varRefreshCmd": "print(var_dic_list())"
    },
    "r": {
     "delete_cmd_postfix": ") ",
     "delete_cmd_prefix": "rm(",
     "library": "var_list.r",
     "varRefreshCmd": "cat(var_dic_list()) "
    }
   },
   "position": {
    "height": "445.185px",
    "left": "1052.25px",
    "right": "20px",
    "top": "119.988px",
    "width": "349.988px"
   },
   "types_to_exclude": [
    "module",
    "function",
    "builtin_function_or_method",
    "instance",
    "_Feature"
   ],
   "window_display": false
  }
 },
 "nbformat": 4,
 "nbformat_minor": 1
}
